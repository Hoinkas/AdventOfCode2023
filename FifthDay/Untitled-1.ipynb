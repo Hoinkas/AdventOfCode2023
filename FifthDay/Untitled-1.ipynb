{
 "cells": [
  {
   "cell_type": "code",
   "execution_count": 202,
   "metadata": {},
   "outputs": [],
   "source": [
    "lines = []\n",
    "with open('AOC_5Day_Quest.txt') as f:\n",
    "  l = f.readlines()\n",
    "  lines = [entry.strip() for entry in l]"
   ]
  },
  {
   "cell_type": "code",
   "execution_count": 203,
   "metadata": {},
   "outputs": [],
   "source": [
    "import re\n",
    "\n",
    "stringsOfMatches = [\"seed-to-soil map:\", \"soil-to-fertilizer map:\", \"fertilizer-to-water map:\", \"water-to-light map:\", \"light-to-temperature map:\", \"temperature-to-humidity map:\", \"humidity-to-location map:\"]\n",
    "indexesOfMatches = [lines.index(pharse) for pharse in stringsOfMatches]\n",
    "\n",
    "# lines[index +1: indexesOfMatches[i+1]-1] for i, index in enumerate(indexesOfMatches)\n",
    "\n",
    "matchesDict = {}\n",
    "lengthOfMatches = len(indexesOfMatches)\n",
    "\n",
    "for i in range(lengthOfMatches-1):\n",
    "  startIndex = indexesOfMatches[i]+1\n",
    "  endIndex = indexesOfMatches[i+1]-1 if i < lengthOfMatches else lengthOfMatches-1\n",
    "  matchesPairDict = {}    \n",
    "\n",
    "  listOfMatches = [list(map(int, line.split())) for line in lines[startIndex:endIndex]]\n",
    "  matchesDict[i] = sorted(listOfMatches, key= lambda x: x[1])"
   ]
  },
  {
   "cell_type": "code",
   "execution_count": 204,
   "metadata": {},
   "outputs": [],
   "source": [
    "def returnResultOfMatching(seedNumber):\n",
    "  currentResult = seedNumber\n",
    "\n",
    "  for matchRule in matchesDict.values():\n",
    "    print(matchRule)\n",
    "    print(seedNumber < matchRule[0][1] or seedNumber > matchRule[-1][1])\n",
    "    if seedNumber < matchRule[0][1] or seedNumber > matchRule[-1][1]:\n",
    "      print(currentResult)\n",
    "      continue\n",
    "    \n",
    "    for xToY in matchRule:\n",
    "      destination, source, rg = xToY\n",
    "\n",
    "      if source <= currentResult <= source+rg:\n",
    "        currentResult = destination + currentResult-source\n",
    "        print(currentResult)\n",
    "        break\n",
    "    \n",
    "\n",
    "  return currentResult"
   ]
  },
  {
   "cell_type": "code",
   "execution_count": 205,
   "metadata": {},
   "outputs": [],
   "source": [
    "seedsRangeList = lines[0].split(': ')[1]\n",
    "seedsList = [(start, start+end) for start, end in map(lambda x: map(int, x.split()), re.findall(r\"(\\d+ \\d+)\", seedsRangeList))]\n",
    "seedsList = sorted(seedsList)\n",
    "\n",
    "seedsList = [(13, 13),(14,14)]"
   ]
  },
  {
   "cell_type": "code",
   "execution_count": 206,
   "metadata": {},
   "outputs": [
    {
     "name": "stdout",
     "output_type": "stream",
     "text": [
      "8/38 21.05%\n",
      "9/38 23.68%\n",
      "WON----------------------\n",
      "1\n"
     ]
    }
   ],
   "source": [
    "minSeed, maxSeed = [min(seedsList[0]), max(seedsList[1])]\n",
    "minValue = maxSeed\n",
    "\n",
    "seedNumber = minSeed\n",
    "whichRange = 0\n",
    "\n",
    "while seedNumber < maxSeed:\n",
    "  resultOfMatching = returnResultOfMatching(seedNumber)\n",
    "\n",
    "  if(minValue > resultOfMatching):\n",
    "    minValue = resultOfMatching\n",
    "  \n",
    "    print(f\"{seedNumber-minSeed}/{maxSeed-minSeed} {round((seedNumber-minSeed)/(maxSeed-minSeed)*100,2)}%\")\n",
    "  \n",
    "  if(whichRange+1 < len(seedsList) and (seedNumber == seedsList[whichRange][1] or (seedNumber >= seedsList[whichRange+1][0]))):\n",
    "    seedNumber = seedsList[whichRange+1][0]\n",
    "    whichRange += 1\n",
    "  else: seedNumber += 1\n",
    "\n",
    "print('WON----------------------')\n",
    "print(minValue)"
   ]
  }
 ],
 "metadata": {
  "kernelspec": {
   "display_name": "Python 3",
   "language": "python",
   "name": "python3"
  },
  "language_info": {
   "codemirror_mode": {
    "name": "ipython",
    "version": 3
   },
   "file_extension": ".py",
   "mimetype": "text/x-python",
   "name": "python",
   "nbconvert_exporter": "python",
   "pygments_lexer": "ipython3",
   "version": "3.10.11"
  }
 },
 "nbformat": 4,
 "nbformat_minor": 2
}
